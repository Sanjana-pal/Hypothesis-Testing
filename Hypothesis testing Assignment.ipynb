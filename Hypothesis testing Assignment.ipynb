{
 "cells": [
  {
   "cell_type": "markdown",
   "id": "6e1d827f",
   "metadata": {},
   "source": [
    "# Document Report\n",
    "** Created by - Sanjana Pal\n",
    "- date - 02 may\n",
    "- code realted to -Assignment topic - Hypothesis testing."
   ]
  },
  {
   "cell_type": "markdown",
   "id": "99d5f99c",
   "metadata": {},
   "source": [
    "# Hypothesis Testing"
   ]
  },
  {
   "cell_type": "markdown",
   "id": "6859e4ab",
   "metadata": {},
   "source": [
    "### Q1      A F&B manager wants to determine whether there is any significant difference in the diameter of the cutlet between two units. A randomly selected sample of cutlets was collected from both units and measured? Analyze the data and draw inferences at 5% significance level. Please state the assumptions and tests that you carried out to check validity of the assumptions.\n"
   ]
  },
  {
   "cell_type": "markdown",
   "id": "500e7ee6",
   "metadata": {},
   "source": [
    "## inference \n",
    "### Step 1 - Formulating the null and alternate hypothesis\n",
    "- Assume null hypothesis is Ho = μ1 = μ2( there is no difference in the diameter of the cutlets between two units.)\n",
    " -  Alternate Hypothesis Ha = μ1 ≠ μ2 (There is significance difference in the diameter of the cutles between two units.)\n",
    "- IT is a two tail test"
   ]
  },
  {
   "cell_type": "markdown",
   "id": "49d99483",
   "metadata": {},
   "source": [
    "### given \n",
    "\n",
    "- CI = 95%,so that significance level is 5% = 0.05\n"
   ]
  },
  {
   "cell_type": "code",
   "execution_count": 4,
   "id": "1f1c7cc5",
   "metadata": {},
   "outputs": [],
   "source": [
    "import pandas as pd\n",
    "import numpy as np\n",
    "from scipy import stats"
   ]
  },
  {
   "cell_type": "code",
   "execution_count": null,
   "id": "4fedbfc8",
   "metadata": {},
   "outputs": [],
   "source": [
    "df = pd.read_csv(\"Cutlets.csv\")"
   ]
  },
  {
   "cell_type": "code",
   "execution_count": null,
   "id": "17dfcb29",
   "metadata": {},
   "outputs": [],
   "source": [
    "df"
   ]
  },
  {
   "cell_type": "code",
   "execution_count": null,
   "id": "4064c283",
   "metadata": {},
   "outputs": [],
   "source": []
  },
  {
   "cell_type": "code",
   "execution_count": null,
   "id": "593d5fdd",
   "metadata": {},
   "outputs": [],
   "source": [
    "len(df)"
   ]
  },
  {
   "cell_type": "code",
   "execution_count": null,
   "id": "2e0c51ca",
   "metadata": {},
   "outputs": [],
   "source": [
    "### Test Statistics for given hypothesis\n",
    "### Step 2\n",
    "- There are two independent samples unit A and unit B \n",
    "- Population deviation is not given\n",
    "- Sample Size is small\n",
    "- Considering all of this we will using two sample t test with one tail"
   ]
  },
  {
   "cell_type": "code",
   "execution_count": null,
   "id": "2c090d8c",
   "metadata": {},
   "outputs": [],
   "source": [
    "# 2 sample 2 tail_ttest:   stats.ttest_ind(array1,array2)  #ind = independent sample\n",
    "\n",
    "p_value=stats.ttest_ind(df['Unit A'].squeeze(),df['Unit B'].squeeze()) # squeeze is used to convert column into series"
   ]
  },
  {
   "cell_type": "code",
   "execution_count": null,
   "id": "5808be13",
   "metadata": {},
   "outputs": [],
   "source": [
    "p_value"
   ]
  },
  {
   "cell_type": "code",
   "execution_count": null,
   "id": "696a7807",
   "metadata": {},
   "outputs": [],
   "source": [
    "pvalue = 0.47 and alpha value is 0.05"
   ]
  },
  {
   "cell_type": "markdown",
   "id": "5a47ba0b",
   "metadata": {},
   "source": [
    " - Above equation shows that pvalue is greater than alpha value,so we conclude that we are failed to reject null hypothesis\n",
    "    ,its shows there is no differnce in the cutlets between two units."
   ]
  },
  {
   "cell_type": "code",
   "execution_count": null,
   "id": "4665a58b",
   "metadata": {},
   "outputs": [],
   "source": []
  },
  {
   "cell_type": "markdown",
   "id": "16c89361",
   "metadata": {},
   "source": [
    "## Q2.A hospital wants to determine whether there is any difference in the average Turn Around Time (TAT) of reports of the laboratories on their preferred list. They collected a random sample and recorded TAT for reports of 4 laboratories. TAT is defined as sample collected to report dispatch.\n",
    "   \n",
    "  Analyze the data and determine whether there is any difference in average TAT among the different laboratories at 5% significance level.\n",
    " "
   ]
  },
  {
   "cell_type": "code",
   "execution_count": null,
   "id": "28e79267",
   "metadata": {},
   "outputs": [],
   "source": [
    "dftat = pd.read_csv(\"LabTAT.csv\")"
   ]
  },
  {
   "cell_type": "code",
   "execution_count": null,
   "id": "8999d810",
   "metadata": {},
   "outputs": [],
   "source": [
    "dftat"
   ]
  },
  {
   "cell_type": "code",
   "execution_count": null,
   "id": "087af05c",
   "metadata": {},
   "outputs": [],
   "source": [
    "### Step 1 - Formulating null and alternate hypothesis\n",
    "- Null hypothesis = m1=m2=m3=m4\n",
    "- Alternate hypothesis = m1 =m2= m3 !=m4\n",
    "Anova ftest = Analysis of more than 2 samples or columns."
   ]
  },
  {
   "cell_type": "code",
   "execution_count": null,
   "id": "4752bbdd",
   "metadata": {},
   "outputs": [],
   "source": [
    "p_values = stats.f_oneway(dftat.iloc[:,0],dftat.iloc[:,1],dftat.iloc[:,2],dftat.iloc[:,3])"
   ]
  },
  {
   "cell_type": "code",
   "execution_count": null,
   "id": "4d4ffd30",
   "metadata": {},
   "outputs": [],
   "source": [
    "p_values"
   ]
  },
  {
   "cell_type": "markdown",
   "id": "18dd57b8",
   "metadata": {},
   "source": [
    "- comparing between p value and significance difference i.e p>alpha(2.11>0.05),pvalue is greater than alpha ,its shows we failed to reject Null hypothesis ,so we can say that average TAT of reports of the laboratories is the same."
   ]
  },
  {
   "cell_type": "code",
   "execution_count": null,
   "id": "80d49936",
   "metadata": {},
   "outputs": [],
   "source": []
  },
  {
   "cell_type": "markdown",
   "id": "4c3bec38",
   "metadata": {},
   "source": [
    "## Q.3  Sales of products in four different regions is tabulated for males and females. Find if male-female buyer rations are similar across regions."
   ]
  },
  {
   "cell_type": "code",
   "execution_count": 5,
   "id": "5d71cd97",
   "metadata": {},
   "outputs": [],
   "source": [
    "dfby = pd.read_csv(\"BuyerRatio (1).csv\")"
   ]
  },
  {
   "cell_type": "code",
   "execution_count": 6,
   "id": "5b1d603f",
   "metadata": {},
   "outputs": [
    {
     "data": {
      "text/html": [
       "<div>\n",
       "<style scoped>\n",
       "    .dataframe tbody tr th:only-of-type {\n",
       "        vertical-align: middle;\n",
       "    }\n",
       "\n",
       "    .dataframe tbody tr th {\n",
       "        vertical-align: top;\n",
       "    }\n",
       "\n",
       "    .dataframe thead th {\n",
       "        text-align: right;\n",
       "    }\n",
       "</style>\n",
       "<table border=\"1\" class=\"dataframe\">\n",
       "  <thead>\n",
       "    <tr style=\"text-align: right;\">\n",
       "      <th></th>\n",
       "      <th>Observed Values</th>\n",
       "      <th>East</th>\n",
       "      <th>West</th>\n",
       "      <th>North</th>\n",
       "      <th>South</th>\n",
       "    </tr>\n",
       "  </thead>\n",
       "  <tbody>\n",
       "    <tr>\n",
       "      <th>0</th>\n",
       "      <td>Males</td>\n",
       "      <td>50</td>\n",
       "      <td>142</td>\n",
       "      <td>131</td>\n",
       "      <td>70</td>\n",
       "    </tr>\n",
       "    <tr>\n",
       "      <th>1</th>\n",
       "      <td>Females</td>\n",
       "      <td>435</td>\n",
       "      <td>1523</td>\n",
       "      <td>1356</td>\n",
       "      <td>750</td>\n",
       "    </tr>\n",
       "  </tbody>\n",
       "</table>\n",
       "</div>"
      ],
      "text/plain": [
       "  Observed Values  East  West  North  South\n",
       "0           Males    50   142    131     70\n",
       "1         Females   435  1523   1356    750"
      ]
     },
     "execution_count": 6,
     "metadata": {},
     "output_type": "execute_result"
    }
   ],
   "source": [
    "dfby"
   ]
  },
  {
   "cell_type": "markdown",
   "id": "c5d6d9b4",
   "metadata": {},
   "source": [
    "## Formulating Null and Alternate Hypothesis\n",
    "- Null hypothesis Ho = male and female buyer ratio is same \n",
    "- Alternate hypothesis = male and female buyer ratio is different."
   ]
  },
  {
   "cell_type": "code",
   "execution_count": 12,
   "id": "d7212aa7",
   "metadata": {},
   "outputs": [],
   "source": [
    "dfby['Observed Values'] = dfby['Observed Values'].astype('category')\n",
    "dfby = dfby.set_index('Observed Values')# note for chisquare it takes all int values so always our category should be set as index "
   ]
  },
  {
   "cell_type": "code",
   "execution_count": 13,
   "id": "a0c426b3",
   "metadata": {},
   "outputs": [],
   "source": [
    "from scipy.stats import chi2_contingency"
   ]
  },
  {
   "cell_type": "code",
   "execution_count": 16,
   "id": "c604ef9f",
   "metadata": {},
   "outputs": [],
   "source": [
    "chi2_stat, p_val ,dof , expected = chi2_contingency(dfby)"
   ]
  },
  {
   "cell_type": "code",
   "execution_count": 17,
   "id": "27817997",
   "metadata": {},
   "outputs": [
    {
     "name": "stdout",
     "output_type": "stream",
     "text": [
      "chi-squared statistics:1.595945538661058\n",
      "p_value:0.6603094907091882\n",
      "degree of freedom :3\n",
      " expected frequency:[[  42.76531299  146.81287862  131.11756787   72.30424052]\n",
      " [ 442.23468701 1518.18712138 1355.88243213  747.69575948]]\n"
     ]
    }
   ],
   "source": [
    "print(f'chi-squared statistics:{chi2_stat}')\n",
    "print(f'p_value:{p_val}')\n",
    "print(f'degree of freedom :{dof}')\n",
    "print(f' expected frequency:{expected}')"
   ]
  },
  {
   "cell_type": "code",
   "execution_count": null,
   "id": "753f9bc7",
   "metadata": {},
   "outputs": [],
   "source": [
    "p_valu = 0.66"
   ]
  },
  {
   "cell_type": "markdown",
   "id": "5a1fa850",
   "metadata": {},
   "source": [
    "# comparing p_value and alpha value\n",
    "- p_valu=0.66 and alpha value =0.05 ,so basically p_value is greater than alpha ,we failed to reject null hypothesis.\n",
    "In other word we don't have sufficient evidence to support the alternative hypothesis and we conclude that there is no significant difference between observed value and expected value all the proportion are equal"
   ]
  },
  {
   "cell_type": "markdown",
   "id": "8abdba75",
   "metadata": {},
   "source": [
    "- In the context of the chi-squared test, this means there is no differnce between observe and expected fequencies.Therefore we conclude that there is no evidence pf relationship between variable being studied."
   ]
  },
  {
   "cell_type": "code",
   "execution_count": null,
   "id": "86b5d683",
   "metadata": {},
   "outputs": [],
   "source": []
  },
  {
   "cell_type": "markdown",
   "id": "e31ab6b0",
   "metadata": {},
   "source": [
    "# Q.4 TeleCall uses 4 centers around the globe to process customer order forms. They audit a certain %  of the customer order forms. Any error in order form renders it defective and has to be reworked before processing.  The manager wants to check whether the defective %  varies by centre. Please analyze the data at 5% significance level and help the manager draw appropriate inferences\n"
   ]
  },
  {
   "cell_type": "markdown",
   "id": "c8229da4",
   "metadata": {},
   "source": [
    "- Null hypothesis Ho = customer order form defective% does not varies by center\n",
    "- Alternate hypothesis Ha = customer order form defevtive% varies by center.\n",
    "- Significance level = 0.05"
   ]
  },
  {
   "cell_type": "code",
   "execution_count": 22,
   "id": "619e0d1d",
   "metadata": {},
   "outputs": [],
   "source": [
    "data = pd.read_csv(\"Costomer+OrderForm (1).csv\")"
   ]
  },
  {
   "cell_type": "code",
   "execution_count": 23,
   "id": "8fff37f7",
   "metadata": {},
   "outputs": [
    {
     "data": {
      "text/html": [
       "<div>\n",
       "<style scoped>\n",
       "    .dataframe tbody tr th:only-of-type {\n",
       "        vertical-align: middle;\n",
       "    }\n",
       "\n",
       "    .dataframe tbody tr th {\n",
       "        vertical-align: top;\n",
       "    }\n",
       "\n",
       "    .dataframe thead th {\n",
       "        text-align: right;\n",
       "    }\n",
       "</style>\n",
       "<table border=\"1\" class=\"dataframe\">\n",
       "  <thead>\n",
       "    <tr style=\"text-align: right;\">\n",
       "      <th></th>\n",
       "      <th>Phillippines</th>\n",
       "      <th>Indonesia</th>\n",
       "      <th>Malta</th>\n",
       "      <th>India</th>\n",
       "    </tr>\n",
       "  </thead>\n",
       "  <tbody>\n",
       "    <tr>\n",
       "      <th>0</th>\n",
       "      <td>Error Free</td>\n",
       "      <td>Error Free</td>\n",
       "      <td>Defective</td>\n",
       "      <td>Error Free</td>\n",
       "    </tr>\n",
       "    <tr>\n",
       "      <th>1</th>\n",
       "      <td>Error Free</td>\n",
       "      <td>Error Free</td>\n",
       "      <td>Error Free</td>\n",
       "      <td>Defective</td>\n",
       "    </tr>\n",
       "    <tr>\n",
       "      <th>2</th>\n",
       "      <td>Error Free</td>\n",
       "      <td>Defective</td>\n",
       "      <td>Defective</td>\n",
       "      <td>Error Free</td>\n",
       "    </tr>\n",
       "    <tr>\n",
       "      <th>3</th>\n",
       "      <td>Error Free</td>\n",
       "      <td>Error Free</td>\n",
       "      <td>Error Free</td>\n",
       "      <td>Error Free</td>\n",
       "    </tr>\n",
       "    <tr>\n",
       "      <th>4</th>\n",
       "      <td>Error Free</td>\n",
       "      <td>Error Free</td>\n",
       "      <td>Defective</td>\n",
       "      <td>Error Free</td>\n",
       "    </tr>\n",
       "    <tr>\n",
       "      <th>...</th>\n",
       "      <td>...</td>\n",
       "      <td>...</td>\n",
       "      <td>...</td>\n",
       "      <td>...</td>\n",
       "    </tr>\n",
       "    <tr>\n",
       "      <th>295</th>\n",
       "      <td>Error Free</td>\n",
       "      <td>Error Free</td>\n",
       "      <td>Error Free</td>\n",
       "      <td>Error Free</td>\n",
       "    </tr>\n",
       "    <tr>\n",
       "      <th>296</th>\n",
       "      <td>Error Free</td>\n",
       "      <td>Error Free</td>\n",
       "      <td>Error Free</td>\n",
       "      <td>Error Free</td>\n",
       "    </tr>\n",
       "    <tr>\n",
       "      <th>297</th>\n",
       "      <td>Error Free</td>\n",
       "      <td>Error Free</td>\n",
       "      <td>Defective</td>\n",
       "      <td>Error Free</td>\n",
       "    </tr>\n",
       "    <tr>\n",
       "      <th>298</th>\n",
       "      <td>Error Free</td>\n",
       "      <td>Error Free</td>\n",
       "      <td>Error Free</td>\n",
       "      <td>Error Free</td>\n",
       "    </tr>\n",
       "    <tr>\n",
       "      <th>299</th>\n",
       "      <td>Error Free</td>\n",
       "      <td>Defective</td>\n",
       "      <td>Defective</td>\n",
       "      <td>Error Free</td>\n",
       "    </tr>\n",
       "  </tbody>\n",
       "</table>\n",
       "<p>300 rows × 4 columns</p>\n",
       "</div>"
      ],
      "text/plain": [
       "    Phillippines   Indonesia       Malta       India\n",
       "0     Error Free  Error Free   Defective  Error Free\n",
       "1     Error Free  Error Free  Error Free   Defective\n",
       "2     Error Free   Defective   Defective  Error Free\n",
       "3     Error Free  Error Free  Error Free  Error Free\n",
       "4     Error Free  Error Free   Defective  Error Free\n",
       "..           ...         ...         ...         ...\n",
       "295   Error Free  Error Free  Error Free  Error Free\n",
       "296   Error Free  Error Free  Error Free  Error Free\n",
       "297   Error Free  Error Free   Defective  Error Free\n",
       "298   Error Free  Error Free  Error Free  Error Free\n",
       "299   Error Free   Defective   Defective  Error Free\n",
       "\n",
       "[300 rows x 4 columns]"
      ]
     },
     "execution_count": 23,
     "metadata": {},
     "output_type": "execute_result"
    }
   ],
   "source": [
    "data"
   ]
  },
  {
   "cell_type": "code",
   "execution_count": 25,
   "id": "41a3e984",
   "metadata": {},
   "outputs": [
    {
     "data": {
      "text/plain": [
       "Error Free    271\n",
       "Defective      29\n",
       "Name: Phillippines, dtype: int64"
      ]
     },
     "execution_count": 25,
     "metadata": {},
     "output_type": "execute_result"
    }
   ],
   "source": [
    "data['Phillippines'].value_counts()"
   ]
  },
  {
   "cell_type": "code",
   "execution_count": 26,
   "id": "4eeffcaa",
   "metadata": {},
   "outputs": [
    {
     "data": {
      "text/plain": [
       "Error Free    267\n",
       "Defective      33\n",
       "Name: Indonesia, dtype: int64"
      ]
     },
     "execution_count": 26,
     "metadata": {},
     "output_type": "execute_result"
    }
   ],
   "source": [
    "data['Indonesia'].value_counts()"
   ]
  },
  {
   "cell_type": "code",
   "execution_count": 27,
   "id": "af20b183",
   "metadata": {},
   "outputs": [
    {
     "data": {
      "text/plain": [
       "Error Free    269\n",
       "Defective      31\n",
       "Name: Malta, dtype: int64"
      ]
     },
     "execution_count": 27,
     "metadata": {},
     "output_type": "execute_result"
    }
   ],
   "source": [
    "data['Malta'].value_counts()"
   ]
  },
  {
   "cell_type": "code",
   "execution_count": 28,
   "id": "b5404313",
   "metadata": {},
   "outputs": [
    {
     "data": {
      "text/plain": [
       "Error Free    280\n",
       "Defective      20\n",
       "Name: India, dtype: int64"
      ]
     },
     "execution_count": 28,
     "metadata": {},
     "output_type": "execute_result"
    }
   ],
   "source": [
    "data['India'].value_counts()"
   ]
  },
  {
   "cell_type": "code",
   "execution_count": 31,
   "id": "8e4c09e9",
   "metadata": {},
   "outputs": [],
   "source": [
    "obs = np.array([[271,267,269,280],[29,33,31,20]])"
   ]
  },
  {
   "cell_type": "code",
   "execution_count": 32,
   "id": "40561cce",
   "metadata": {},
   "outputs": [
    {
     "data": {
      "text/plain": [
       "array([[271, 267, 269, 280],\n",
       "       [ 29,  33,  31,  20]])"
      ]
     },
     "execution_count": 32,
     "metadata": {},
     "output_type": "execute_result"
    }
   ],
   "source": [
    "obs"
   ]
  },
  {
   "cell_type": "code",
   "execution_count": 33,
   "id": "a46afecd",
   "metadata": {},
   "outputs": [],
   "source": [
    "chi2_stats, p_value, dof, expected = chi2_contingency(obs)"
   ]
  },
  {
   "cell_type": "code",
   "execution_count": 34,
   "id": "33a69b31",
   "metadata": {},
   "outputs": [
    {
     "data": {
      "text/plain": [
       "3.858960685820355"
      ]
     },
     "execution_count": 34,
     "metadata": {},
     "output_type": "execute_result"
    }
   ],
   "source": [
    "chi2_stats"
   ]
  },
  {
   "cell_type": "code",
   "execution_count": 35,
   "id": "e6d18f1b",
   "metadata": {},
   "outputs": [
    {
     "data": {
      "text/plain": [
       "0.2771020991233135"
      ]
     },
     "execution_count": 35,
     "metadata": {},
     "output_type": "execute_result"
    }
   ],
   "source": [
    "p_value"
   ]
  },
  {
   "cell_type": "code",
   "execution_count": 36,
   "id": "b695fe21",
   "metadata": {},
   "outputs": [
    {
     "data": {
      "text/plain": [
       "3"
      ]
     },
     "execution_count": 36,
     "metadata": {},
     "output_type": "execute_result"
    }
   ],
   "source": [
    "dof"
   ]
  },
  {
   "cell_type": "code",
   "execution_count": 37,
   "id": "39d8ec0d",
   "metadata": {},
   "outputs": [
    {
     "data": {
      "text/plain": [
       "array([[271.75, 271.75, 271.75, 271.75],\n",
       "       [ 28.25,  28.25,  28.25,  28.25]])"
      ]
     },
     "execution_count": 37,
     "metadata": {},
     "output_type": "execute_result"
    }
   ],
   "source": [
    "expected"
   ]
  },
  {
   "cell_type": "markdown",
   "id": "764e82ad",
   "metadata": {},
   "source": [
    "## comparing p_value and alpha value"
   ]
  },
  {
   "cell_type": "markdown",
   "id": "9c32bb64",
   "metadata": {},
   "source": [
    "- p_ value = 0.277,\n",
    "- alpha value = 0.05,\n",
    "p_value > alpha value, we conclude that p value is greater than alpha value ,so we fail to reject null hypothesis i.e customer order form defective % does not varies by center. "
   ]
  },
  {
   "cell_type": "code",
   "execution_count": null,
   "id": "1b879da0",
   "metadata": {},
   "outputs": [],
   "source": []
  }
 ],
 "metadata": {
  "kernelspec": {
   "display_name": "Python 3 (ipykernel)",
   "language": "python",
   "name": "python3"
  },
  "language_info": {
   "codemirror_mode": {
    "name": "ipython",
    "version": 3
   },
   "file_extension": ".py",
   "mimetype": "text/x-python",
   "name": "python",
   "nbconvert_exporter": "python",
   "pygments_lexer": "ipython3",
   "version": "3.9.13"
  }
 },
 "nbformat": 4,
 "nbformat_minor": 5
}
